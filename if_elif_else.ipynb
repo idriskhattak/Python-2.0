{
 "cells": [
  {
   "cell_type": "markdown",
   "metadata": {},
   "source": [
    "# Conditional Statements"
   ]
  },
  {
   "cell_type": "code",
   "execution_count": 4,
   "metadata": {},
   "outputs": [
    {
     "name": "stdout",
     "output_type": "stream",
     "text": [
      "It's better to stay at home because i can't walk anymore\n"
     ]
    }
   ],
   "source": [
    "age = int(input('Enter your age :'))\n",
    "\n",
    "if age<18:\n",
    "    print(\"You are below of age 18 you can't cast vote\")\n",
    "\n",
    "elif age>=50:\n",
    "    print(\"It's better to stay at home because i can't walk anymore\")\n",
    "\n",
    "else:\n",
    "    print(\"Yes you can cast vote\")"
   ]
  }
 ],
 "metadata": {
  "kernelspec": {
   "display_name": "Python 3",
   "language": "python",
   "name": "python3"
  },
  "language_info": {
   "codemirror_mode": {
    "name": "ipython",
    "version": 3
   },
   "file_extension": ".py",
   "mimetype": "text/x-python",
   "name": "python",
   "nbconvert_exporter": "python",
   "pygments_lexer": "ipython3",
   "version": "3.12.2"
  }
 },
 "nbformat": 4,
 "nbformat_minor": 2
}
